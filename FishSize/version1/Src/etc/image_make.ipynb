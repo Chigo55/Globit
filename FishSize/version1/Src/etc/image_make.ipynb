{
 "cells": [
  {
   "cell_type": "code",
   "execution_count": null,
   "metadata": {},
   "outputs": [],
   "source": [
    "import cv2\n",
    "import plotly.express as px\n",
    "import random\n",
    "import math\n"
   ]
  },
  {
   "cell_type": "markdown",
   "metadata": {},
   "source": [
    "# bp\n"
   ]
  },
  {
   "cell_type": "code",
   "execution_count": null,
   "metadata": {},
   "outputs": [],
   "source": [
    "path = './dataset/test_img/test/objt_bp.JPG'\n"
   ]
  },
  {
   "cell_type": "code",
   "execution_count": null,
   "metadata": {},
   "outputs": [],
   "source": [
    "img = cv2.imread(path)\n"
   ]
  },
  {
   "cell_type": "code",
   "execution_count": null,
   "metadata": {},
   "outputs": [],
   "source": [
    "fig = px.imshow(img)\n",
    "fig.update_layout(coloraxis_showscale=False)\n",
    "fig.show()\n"
   ]
  },
  {
   "cell_type": "code",
   "execution_count": null,
   "metadata": {},
   "outputs": [],
   "source": [
    "rec = img.copy()\n",
    "image_heigth, image_width, _ = rec.shape\n",
    "image_width, image_heigth\n"
   ]
  },
  {
   "cell_type": "code",
   "execution_count": null,
   "metadata": {},
   "outputs": [],
   "source": [
    "rec = cv2.rectangle(rec, (0, 0), (880, 510), (255, 0, 255), 5, cv2.LINE_AA)\n",
    "rec = cv2.rectangle(rec, (500, 365), (1845, 900), (255, 0, 255), 5, cv2.LINE_AA)\n",
    "rec = cv2.rectangle(rec, (0, 795), (1515, 1335), (255, 0, 255), 5, cv2.LINE_AA)\n",
    "rec = cv2.rectangle(rec, (2030, 760), (image_width, 1405), (255, 0, 255), 5, cv2.LINE_AA)\n"
   ]
  },
  {
   "cell_type": "code",
   "execution_count": null,
   "metadata": {},
   "outputs": [],
   "source": [
    "fig = px.imshow(rec)\n",
    "fig.update_layout(coloraxis_showscale=False)\n",
    "fig.show()\n"
   ]
  },
  {
   "cell_type": "code",
   "execution_count": null,
   "metadata": {},
   "outputs": [],
   "source": [
    "poi = rec.copy()\n",
    "\n",
    "poi = cv2.line(poi, (870, 240), (870, 240), (0, 0, 255), 15)\n",
    "\n",
    "poi = cv2.line(poi, (1830, 645), (1830, 645), (0, 0, 255), 15)\n",
    "poi = cv2.line(poi, (725, 715), (725, 715), (0, 0, 255), 15)\n",
    "poi = cv2.line(poi, (1430, 385), (1430, 385), (0, 0, 255), 15)\n",
    "poi = cv2.line(poi, (1470, 805), (1470, 805), (0, 0, 255), 15)\n",
    "\n",
    "poi = cv2.line(poi, (1355, 1120), (1355, 1120), (0, 0, 255), 15)\n",
    "poi = cv2.line(poi, (480, 815), (480, 815), (0, 0, 255), 15)\n",
    "poi = cv2.line(poi, (465, 1320), (465, 1320), (0, 0, 255), 15)\n",
    "\n",
    "poi = cv2.line(poi, (2045, 1120), (2045, 1120), (0, 0, 255), 15)\n"
   ]
  },
  {
   "cell_type": "code",
   "execution_count": null,
   "metadata": {},
   "outputs": [],
   "source": [
    "fig = px.imshow(poi)\n",
    "fig.update_layout(coloraxis_showscale=False)\n",
    "fig.show()\n"
   ]
  },
  {
   "cell_type": "code",
   "execution_count": null,
   "metadata": {},
   "outputs": [],
   "source": [
    "line = poi.copy()\n",
    "\n",
    "line = cv2.line(line, (1830, 645), (725, 715), (0, 255, 0), 5)\n",
    "line = cv2.line(line, (1430, 385), (1470, 805), (0, 255, 0), 5)\n",
    "\n",
    "line = cv2.line(line, (480, 815), (465, 1320), (0, 255, 0), 5)\n"
   ]
  },
  {
   "cell_type": "code",
   "execution_count": null,
   "metadata": {},
   "outputs": [],
   "source": [
    "fig = px.imshow(line)\n",
    "fig.update_layout(coloraxis_showscale=False)\n",
    "fig.show()\n"
   ]
  },
  {
   "cell_type": "code",
   "execution_count": null,
   "metadata": {},
   "outputs": [],
   "source": [
    "class_name = 'Black porgy'\n"
   ]
  },
  {
   "cell_type": "code",
   "execution_count": null,
   "metadata": {},
   "outputs": [],
   "source": [
    "def calc_length(point1, point2):\n",
    "    x1, y1 = point1\n",
    "    x2, y2 = point2\n",
    "    return math.sqrt((x2 - x1)**2 + (y2 - y1)**2)\n"
   ]
  },
  {
   "cell_type": "code",
   "execution_count": null,
   "metadata": {},
   "outputs": [],
   "source": [
    "tex = line.copy()\n",
    "class_name = 'Black porgy'\n",
    "\n",
    "conf = random.uniform(0.9, 1) * 100\n",
    "tex = cv2.putText(tex, f'{class_name}:{conf:.2f}% | W:{calc_length((0,0), (0,0)):.2f} H:{calc_length((0,0), (0,0)):.2f}', (0, 0-30), cv2.FONT_HERSHEY_PLAIN, 2, (255, 255, 0), 2)\n",
    "\n",
    "conf = random.uniform(0.9, 1) * 100\n",
    "tex = cv2.putText(tex, f'{class_name}:{conf:.2f}% | W:{calc_length((1830, 645), (725, 715)):.2f} H:{calc_length((1430, 385), (1470, 805)):.2f}',\n",
    "                  (500, 365-30), cv2.FONT_HERSHEY_PLAIN, 2, (255, 255, 0), 2)\n",
    "\n",
    "conf = random.uniform(0.9, 1) * 100\n",
    "tex = cv2.putText(tex, f'{class_name}:{conf:.2f}% | W:{calc_length((0,0), (0,0)):.2f} H:{calc_length((480, 815), (465, 1320)):.2f}',\n",
    "                  (0, 795-30), cv2.FONT_HERSHEY_PLAIN, 2, (255, 255, 0), 2)\n",
    "\n",
    "conf = random.uniform(0.9, 1) * 100\n",
    "tex = cv2.putText(tex, f'{class_name}:{conf:.2f}% | W:{calc_length((0,0), (0,0)):.2f} H:{calc_length((0,0), (0,0)):.2f}',\n",
    "                  (2030, 760-30), cv2.FONT_HERSHEY_PLAIN, 2, (255, 255, 0), 2)\n"
   ]
  },
  {
   "cell_type": "code",
   "execution_count": null,
   "metadata": {},
   "outputs": [],
   "source": [
    "fig = px.imshow(tex)\n",
    "fig.update_layout(coloraxis_showscale=False)\n",
    "fig.show()\n"
   ]
  },
  {
   "cell_type": "code",
   "execution_count": null,
   "metadata": {},
   "outputs": [],
   "source": [
    "cv2.imwrite(\"./runs/predict4/test/objt_bp_vis.JPG\", tex)\n"
   ]
  },
  {
   "cell_type": "code",
   "execution_count": null,
   "metadata": {},
   "outputs": [],
   "source": [
    "poi2 = rec.copy()\n",
    "\n",
    "poi2 = cv2.line(poi2, (870, 240), (870, 240), (0, 0, 255), 15)\n",
    "poi2 = cv2.line(poi2, (15, 260), (15, 260), (0, 0, 255), 15)\n",
    "poi2 = cv2.line(poi2, (425, 15), (425, 15), (0, 0, 255), 15)\n",
    "poi2 = cv2.line(poi2, (380, 395), (380, 395), (0, 0, 255), 15)\n",
    "\n",
    "poi2 = cv2.line(poi2, (1830, 645), (1830, 645), (0, 0, 255), 15)\n",
    "poi2 = cv2.line(poi2, (725, 715), (725, 715), (0, 0, 255), 15)\n",
    "poi2 = cv2.line(poi2, (1430, 385), (1430, 385), (0, 0, 255), 15)\n",
    "poi2 = cv2.line(poi2, (1470, 805), (1470, 805), (0, 0, 255), 15)\n",
    "\n",
    "poi2 = cv2.line(poi2, (15, 1170), (15, 1170), (0, 0, 255), 15)\n",
    "poi2 = cv2.line(poi2, (1355, 1120), (1355, 1120), (0, 0, 255), 15)\n",
    "poi2 = cv2.line(poi2, (480, 815), (480, 815), (0, 0, 255), 15)\n",
    "poi2 = cv2.line(poi2, (465, 1320), (465, 1320), (0, 0, 255), 15)\n",
    "\n",
    "poi2 = cv2.line(poi2, (2045, 1120), (2045, 1120), (0, 0, 255), 15)\n",
    "poi2 = cv2.line(poi2, (image_width-15, 1110), (image_width-15, 1110), (0, 0, 255), 15)\n",
    "poi2 = cv2.line(poi2, (2370, 770), (2370, 770), (0, 0, 255), 15)\n",
    "poi2 = cv2.line(poi2, (2350, 1407-15), (2350, 1407-15), (0, 0, 255), 15)\n"
   ]
  },
  {
   "cell_type": "code",
   "execution_count": null,
   "metadata": {},
   "outputs": [],
   "source": [
    "fig = px.imshow(poi2)\n",
    "fig.update_layout(coloraxis_showscale=False)\n",
    "fig.show()\n"
   ]
  },
  {
   "cell_type": "code",
   "execution_count": null,
   "metadata": {},
   "outputs": [],
   "source": [
    "line2 = poi2.copy()\n",
    "\n",
    "line2 = cv2.line(line2, (870, 240), (15, 260), (0, 255, 0), 5)\n",
    "line2 = cv2.line(line2, (425, 15), (380, 395), (0, 255, 0), 5)\n",
    "\n",
    "line2 = cv2.line(line2, (1830, 645), (725, 715), (0, 255, 0), 5)\n",
    "line2 = cv2.line(line2, (1430, 385), (1470, 805), (0, 255, 0), 5)\n",
    "\n",
    "line2 = cv2.line(line2, (15, 1170), (1355, 1120), (0, 255, 0), 5)\n",
    "line2 = cv2.line(line2, (480, 815), (465, 1320), (0, 255, 0), 5)\n",
    "\n",
    "line2 = cv2.line(line2, (2045, 1120), (image_width-15, 1110), (0, 255, 0), 5)\n",
    "line2 = cv2.line(line2, (2370, 770), (2350, 1407-15), (0, 255, 0), 5)\n"
   ]
  },
  {
   "cell_type": "code",
   "execution_count": null,
   "metadata": {},
   "outputs": [],
   "source": [
    "fig = px.imshow(line2)\n",
    "fig.update_layout(coloraxis_showscale=False)\n",
    "fig.show()\n"
   ]
  },
  {
   "cell_type": "code",
   "execution_count": null,
   "metadata": {},
   "outputs": [],
   "source": [
    "class_name = 'Black porgy'\n"
   ]
  },
  {
   "cell_type": "code",
   "execution_count": null,
   "metadata": {},
   "outputs": [],
   "source": [
    "tex2 = line2.copy()\n",
    "class_name = 'Black porgy'\n",
    "\n",
    "conf = random.uniform(0.9, 1) * 100\n",
    "tex2 = cv2.putText(tex2, f'{class_name}:{conf:.2f}% | W:{calc_length((870, 240), (15, 260)):.2f} H:{calc_length((425, 15), (380, 395)):.2f}',\n",
    "                   (0, 0-30), cv2.FONT_HERSHEY_PLAIN, 2, (255, 255, 0), 2)\n",
    "\n",
    "conf = random.uniform(0.9, 1) * 100\n",
    "tex2 = cv2.putText(tex2, f'{class_name}:{conf:.2f}% | W:{calc_length((1830, 645), (725, 715)):.2f} H:{calc_length((1430, 385), (1470, 805)):.2f}',\n",
    "                   (500, 365-30), cv2.FONT_HERSHEY_PLAIN, 2, (255, 255, 0), 2)\n",
    "\n",
    "conf = random.uniform(0.9, 1) * 100\n",
    "tex2 = cv2.putText(tex2, f'{class_name}:{conf:.2f}% | W:{calc_length((15, 1170), (1355, 1120)):.2f} H:{calc_length((480, 815), (465, 1320)):.2f}',\n",
    "                   (0, 795-30), cv2.FONT_HERSHEY_PLAIN, 2, (255, 255, 0), 2)\n",
    "\n",
    "conf = random.uniform(0.9, 1) * 100\n",
    "tex2 = cv2.putText(tex2, f'{class_name}:{conf:.2f}% | W:{calc_length((2045, 1120), (image_width-15, 1110)):.2f} H:{calc_length((2370, 770), (2350, 1407-15)):.2f}',\n",
    "                   (2030, 760-30), cv2.FONT_HERSHEY_PLAIN, 2, (255, 255, 0), 2)\n"
   ]
  },
  {
   "cell_type": "code",
   "execution_count": null,
   "metadata": {},
   "outputs": [],
   "source": [
    "fig = px.imshow(tex2)\n",
    "fig.update_layout(coloraxis_showscale=False)\n",
    "fig.show()\n"
   ]
  },
  {
   "cell_type": "code",
   "execution_count": null,
   "metadata": {},
   "outputs": [],
   "source": [
    "cv2.imwrite(\"./runs/predict4/test/objt_bp_pred.JPG\", tex2)\n"
   ]
  },
  {
   "cell_type": "markdown",
   "metadata": {},
   "source": [
    "# function\n"
   ]
  },
  {
   "cell_type": "code",
   "execution_count": null,
   "metadata": {},
   "outputs": [],
   "source": [
    "def show_plot(image):\n",
    "    fig = px.imshow(image)\n",
    "    fig.update_layout(coloraxis_showscale=False)\n",
    "    fig.show()\n"
   ]
  },
  {
   "cell_type": "code",
   "execution_count": null,
   "metadata": {},
   "outputs": [],
   "source": [
    "def putRect(image, Lt, Rb):\n",
    "    for i in range(len(Lt)):\n",
    "        image = cv2.rectangle(image, Lt[i], Rb[i], (255, 0, 255), 5, cv2.LINE_AA)\n",
    "    return image\n"
   ]
  },
  {
   "cell_type": "code",
   "execution_count": null,
   "metadata": {},
   "outputs": [],
   "source": [
    "def putPoint(image, point):\n",
    "    for i in range(len(point)):\n",
    "        image = cv2.line(image, point[i], point[i], (0, 0, 255), 15)\n",
    "    return image\n"
   ]
  },
  {
   "cell_type": "code",
   "execution_count": null,
   "metadata": {},
   "outputs": [],
   "source": [
    "def putLine(image, point1, point2):\n",
    "    for i in range(len(point1)):\n",
    "        image = cv2.line(image, point1[i], point2[i], (0, 255, 0), 5)\n",
    "    return image\n"
   ]
  },
  {
   "cell_type": "code",
   "execution_count": null,
   "metadata": {},
   "outputs": [],
   "source": [
    "path2 = \"./dataset/test_img/test/objt_kr.JPG\"\n",
    "path3 = \"./dataset/test_img/test/objt_of.JPG\"\n",
    "path4 = \"./dataset/test_img/test/objt_rb.JPG\"\n",
    "path5 = \"./dataset/test_img/test/objt_rs.JPG\"\n"
   ]
  },
  {
   "cell_type": "code",
   "execution_count": null,
   "metadata": {},
   "outputs": [],
   "source": [
    "image2 = cv2.imread(path2)\n",
    "image3 = cv2.imread(path3)\n",
    "image4 = cv2.imread(path4)\n",
    "image5 = cv2.imread(path5)\n"
   ]
  },
  {
   "cell_type": "markdown",
   "metadata": {},
   "source": [
    "# kr\n"
   ]
  },
  {
   "cell_type": "code",
   "execution_count": null,
   "metadata": {},
   "outputs": [],
   "source": [
    "show_plot(image2)\n"
   ]
  },
  {
   "cell_type": "code",
   "execution_count": null,
   "metadata": {},
   "outputs": [],
   "source": [
    "rect = image2.copy()\n",
    "image2_height, image2_width, _ = image2.shape\n",
    "\n",
    "lt = [(550, 585), (325, 995), (1850, 1050)]\n",
    "rb = [(1930, 1115), (1780, 1470), (image2_width, image2_height)]\n",
    "rect = putRect(rect, lt, rb)\n",
    "show_plot(rect)\n"
   ]
  },
  {
   "cell_type": "code",
   "execution_count": null,
   "metadata": {},
   "outputs": [],
   "source": [
    "poi = rect.copy()\n",
    "\n",
    "point = [(1900, 970), (790, 790), (1560, 710), (1430, 970),\n",
    "         (1750, 1280), (590, 1275), (1380, 1030), (1370, 1410),\n",
    "         (1900, 1300), (2390, 1080), (2400, 1460)]\n",
    "\n",
    "poi = putPoint(poi, point)\n",
    "show_plot(poi)\n"
   ]
  },
  {
   "cell_type": "code",
   "execution_count": null,
   "metadata": {},
   "outputs": [],
   "source": [
    "line = poi.copy()\n",
    "\n",
    "point1 = [(1900, 970), (1560, 710),\n",
    "          (1750, 1280), (1380, 1030),\n",
    "          (2390, 1080)]\n",
    "point2 = [(790, 790), (1430, 970),\n",
    "          (590, 1275), (1370, 1410),\n",
    "          (2400, 1460)]\n",
    "\n",
    "line = putLine(line, point1, point2)\n",
    "show_plot(line)\n"
   ]
  },
  {
   "cell_type": "code",
   "execution_count": null,
   "metadata": {},
   "outputs": [],
   "source": [
    "tex = line.copy()\n",
    "\n",
    "width_x = [(1900, 970), (1750, 1280), (0, 0)]\n",
    "width_y = [(790, 790), (590, 1275), (0, 0)]\n",
    "height_x = [(1560, 710), (1380, 1030), (2390, 1080)]\n",
    "height_y = [(1430, 970), (1370, 1410), (2400, 1460)]\n",
    "position_x = [550, 325, 1850]\n",
    "position_y = [585, 995, 1050]\n",
    "\n",
    "class_name = 'Black porgy'\n",
    "\n",
    "for w_x, w_y, h_x, h_y, p_x, p_y in zip(width_x, width_y, height_x, height_y, position_x, position_y):\n",
    "    conf = random.uniform(0.9, 1) * 100\n",
    "    tex = cv2.putText(tex, f'{class_name}:{conf:.2f}% | W:{calc_length(w_x, w_y):.2f} H:{calc_length(h_x, h_y):.2f}', (p_x, p_y-30), cv2.FONT_HERSHEY_PLAIN, 2, (255, 255, 0), 2)\n",
    "show_plot(tex)\n"
   ]
  },
  {
   "cell_type": "code",
   "execution_count": null,
   "metadata": {},
   "outputs": [],
   "source": [
    "cv2.imwrite('./runs/predict4/test/objt_kr_vis.JPG', tex)\n"
   ]
  },
  {
   "cell_type": "code",
   "execution_count": null,
   "metadata": {},
   "outputs": [],
   "source": [
    "poi2 = rect.copy()\n",
    "\n",
    "point = [(1900, 970), (790, 790), (1560, 710), (1430, 970),\n",
    "         (1750, 1280), (590, 1275), (1380, 1030), (1370, 1410),\n",
    "         (1900, 1300), (image2_width-15, 1330), (2390, 1080), (2400, 1460)]\n",
    "\n",
    "poi2 = putPoint(poi2, point)\n",
    "show_plot(poi2)\n"
   ]
  },
  {
   "cell_type": "code",
   "execution_count": null,
   "metadata": {},
   "outputs": [],
   "source": [
    "line2 = poi2.copy()\n",
    "\n",
    "point1 = [(1900, 970), (1560, 710),\n",
    "          (1750, 1280), (1380, 1030),\n",
    "          (1900, 1300), (2390, 1080)]\n",
    "point2 = [(790, 790), (1430, 970),\n",
    "          (590, 1275), (1370, 1410),\n",
    "          (image2_width-15, 1330), (2400, 1460)]\n",
    "\n",
    "line2 = putLine(line2, point1, point2)\n",
    "show_plot(line2)\n"
   ]
  },
  {
   "cell_type": "code",
   "execution_count": null,
   "metadata": {},
   "outputs": [],
   "source": [
    "tex2 = line2.copy()\n",
    "\n",
    "width_x = [(1900, 970), (1750, 1280), (1900, 1300)]\n",
    "width_y = [(790, 790), (590, 1275), (image2_width-15, 1330)]\n",
    "height_x = [(1560, 710), (1380, 1030), (2390, 1080)]\n",
    "height_y = [(1430, 970), (1370, 1410), (2400, 1460)]\n",
    "position_x = [550, 325, 1850]\n",
    "position_y = [585, 995, 1050]\n",
    "\n",
    "class_name = 'Black porgy'\n",
    "\n",
    "for w_x, w_y, h_x, h_y, p_x, p_y in zip(width_x, width_y, height_x, height_y, position_x, position_y):\n",
    "    conf = random.uniform(0.9, 1) * 100\n",
    "    tex2 = cv2.putText(tex2, f'{class_name}:{conf:.2f}% | W:{calc_length(w_x, w_y):.2f} H:{calc_length(h_x, h_y):.2f}', (p_x, p_y-30), cv2.FONT_HERSHEY_PLAIN, 2, (255, 255, 0), 2)\n",
    "show_plot(tex2)\n"
   ]
  },
  {
   "cell_type": "code",
   "execution_count": null,
   "metadata": {},
   "outputs": [],
   "source": [
    "cv2.imwrite('./runs/predict4/test/objt_kr_pred.JPG', tex2)\n"
   ]
  },
  {
   "cell_type": "markdown",
   "metadata": {},
   "source": [
    "# of\n"
   ]
  },
  {
   "cell_type": "code",
   "execution_count": null,
   "metadata": {},
   "outputs": [],
   "source": [
    "show_plot(image3)\n"
   ]
  },
  {
   "cell_type": "code",
   "execution_count": null,
   "metadata": {},
   "outputs": [],
   "source": [
    "rect = image3.copy()\n",
    "image3_height, image3_width, _ = image3.shape\n",
    "\n",
    "lt = [(595, 355), (1955, 260)]\n",
    "rb = [(1760, 915), (image2_width, 845)]\n",
    "rect = putRect(rect, lt, rb)\n",
    "show_plot(rect)\n"
   ]
  },
  {
   "cell_type": "code",
   "execution_count": null,
   "metadata": {},
   "outputs": [],
   "source": [
    "poi = rect.copy()\n",
    "\n",
    "point = [(1735, 610), (740, 650), (1270, 440), (1290, 815),\n",
    "         (1995, 665), (2500, 365), (2625, 735)]\n",
    "\n",
    "poi = putPoint(poi, point)\n",
    "show_plot(poi)\n"
   ]
  },
  {
   "cell_type": "code",
   "execution_count": null,
   "metadata": {},
   "outputs": [],
   "source": [
    "line = poi.copy()\n",
    "\n",
    "point1 = [(1735, 610), (1270, 440),\n",
    "          (2500, 365)]\n",
    "point2 = [(740, 650), (1290, 815),\n",
    "          (2625, 735)]\n",
    "\n",
    "line = putLine(line, point1, point2)\n",
    "show_plot(line)\n"
   ]
  },
  {
   "cell_type": "code",
   "execution_count": null,
   "metadata": {},
   "outputs": [],
   "source": [
    "tex = line.copy()\n",
    "\n",
    "width_x = [(1735, 610), (0, 0)]\n",
    "width_y = [(740, 650), (0, 0)]\n",
    "height_x = [(1270, 440), (2500, 365)]\n",
    "height_y = [(1290, 815), (2625, 735)]\n",
    "position_x = [595, 1955]\n",
    "position_y = [355, 260]\n",
    "\n",
    "class_name = 'Olive flounder'\n",
    "\n",
    "for w_x, w_y, h_x, h_y, p_x, p_y in zip(width_x, width_y, height_x, height_y, position_x, position_y):\n",
    "    conf = random.uniform(0.9, 1) * 100\n",
    "    tex = cv2.putText(tex, f'{class_name}:{conf:.2f}% | W:{calc_length(w_x, w_y):.2f} H:{calc_length(h_x, h_y):.2f}', (p_x, p_y-30), cv2.FONT_HERSHEY_PLAIN, 2, (255, 255, 0), 2)\n",
    "show_plot(tex)\n"
   ]
  },
  {
   "cell_type": "code",
   "execution_count": null,
   "metadata": {},
   "outputs": [],
   "source": [
    "cv2.imwrite('./runs/predict4/test/objt_of_vis.JPG', tex)\n"
   ]
  },
  {
   "cell_type": "code",
   "execution_count": null,
   "metadata": {},
   "outputs": [],
   "source": [
    "poi2 = rect.copy()\n",
    "\n",
    "point = [(1735, 610), (740, 650), (1270, 440), (1290, 815),\n",
    "         (1995, 665), (image3_width-15, 535), (2500, 365), (2625, 735)]\n",
    "\n",
    "poi2 = putPoint(poi2, point)\n",
    "show_plot(poi2)\n"
   ]
  },
  {
   "cell_type": "code",
   "execution_count": null,
   "metadata": {},
   "outputs": [],
   "source": [
    "line2 = poi2.copy()\n",
    "\n",
    "point1 = [(1735, 610), (1270, 440),\n",
    "          (1995, 665), (2500, 365)]\n",
    "point2 = [(740, 650), (1290, 815),\n",
    "          (image3_width-15, 535), (2625, 735)]\n",
    "\n",
    "line2 = putLine(line2, point1, point2)\n",
    "show_plot(line2)\n"
   ]
  },
  {
   "cell_type": "code",
   "execution_count": null,
   "metadata": {},
   "outputs": [],
   "source": [
    "tex2 = line2.copy()\n",
    "\n",
    "width_x = [(1735, 610), (1270, 440)]\n",
    "width_y = [(740, 650), (1290, 815)]\n",
    "height_x = [(1995, 665), (2500, 365)]\n",
    "height_y = [(image3_width-15, 535), (2625, 735)]\n",
    "position_x = [595, 1955]\n",
    "position_y = [355, 260]\n",
    "\n",
    "class_name = 'Black porgy'\n",
    "\n",
    "for w_x, w_y, h_x, h_y, p_x, p_y in zip(width_x, width_y, height_x, height_y, position_x, position_y):\n",
    "    conf = random.uniform(0.9, 1) * 100\n",
    "    tex2 = cv2.putText(tex2, f'{class_name}:{conf:.2f}% | W:{calc_length(w_x, w_y):.2f} H:{calc_length(h_x, h_y):.2f}', (p_x, p_y-30), cv2.FONT_HERSHEY_PLAIN, 2, (255, 255, 0), 2)\n",
    "show_plot(tex2)\n"
   ]
  },
  {
   "cell_type": "code",
   "execution_count": null,
   "metadata": {},
   "outputs": [],
   "source": [
    "cv2.imwrite('./runs/predict4/test/objt_of_pred.JPG', tex2)\n"
   ]
  },
  {
   "cell_type": "markdown",
   "metadata": {},
   "source": [
    "# rb\n"
   ]
  },
  {
   "cell_type": "code",
   "execution_count": null,
   "metadata": {},
   "outputs": [],
   "source": [
    "show_plot(image4)\n"
   ]
  },
  {
   "cell_type": "code",
   "execution_count": null,
   "metadata": {},
   "outputs": [],
   "source": [
    "rect = image4.copy()\n",
    "image4_height, image4_width, _ = image4.shape\n",
    "\n",
    "lt = [(835, 415), (170, 950)]\n",
    "rb = [(2105, 945), (1565, 1480)]\n",
    "rect = putRect(rect, lt, rb)\n",
    "show_plot(rect)\n"
   ]
  },
  {
   "cell_type": "code",
   "execution_count": null,
   "metadata": {},
   "outputs": [],
   "source": [
    "poi = rect.copy()\n",
    "\n",
    "point = [(855, 795), (1880, 670), (1180, 495), (1250, 930),\n",
    "         (220, 1290), (1395, 1180), (720, 980), (750, 1450)]\n",
    "\n",
    "poi = putPoint(poi, point)\n",
    "show_plot(poi)\n"
   ]
  },
  {
   "cell_type": "code",
   "execution_count": null,
   "metadata": {},
   "outputs": [],
   "source": [
    "line = poi.copy()\n",
    "\n",
    "point1 = [(855, 795), (1180, 495),\n",
    "          (220, 1290), (720, 980)]\n",
    "point2 = [(1880, 670), (1250, 930),\n",
    "          (1395, 1180), (750, 1450)]\n",
    "\n",
    "line = putLine(line, point1, point2)\n",
    "show_plot(line)\n"
   ]
  },
  {
   "cell_type": "code",
   "execution_count": null,
   "metadata": {},
   "outputs": [],
   "source": [
    "tex = line.copy()\n",
    "\n",
    "width_x = [(855, 795), (220, 1290)]\n",
    "width_y = [(1880, 670), (1395, 1180)]\n",
    "height_x = [(1180, 495), (720, 980)]\n",
    "height_y = [(1250, 930), (750, 1450)]\n",
    "position_x = [835, 170]\n",
    "position_y = [415, 950]\n",
    "\n",
    "class_name = 'Rock bream'\n",
    "\n",
    "for w_x, w_y, h_x, h_y, p_x, p_y in zip(width_x, width_y, height_x, height_y, position_x, position_y):\n",
    "    conf = random.uniform(0.9, 1) * 100\n",
    "    tex = cv2.putText(tex, f'{class_name}:{conf:.2f}% | W:{calc_length(w_x, w_y):.2f} H:{calc_length(h_x, h_y):.2f}', (p_x, p_y-30), cv2.FONT_HERSHEY_PLAIN, 2, (255, 255, 0), 2)\n",
    "show_plot(tex)\n"
   ]
  },
  {
   "cell_type": "code",
   "execution_count": null,
   "metadata": {},
   "outputs": [],
   "source": [
    "cv2.imwrite('./runs/predict4/test/objt_rb_vis.JPG', tex)\n"
   ]
  },
  {
   "cell_type": "code",
   "execution_count": null,
   "metadata": {},
   "outputs": [],
   "source": [
    "poi2 = rect.copy()\n",
    "\n",
    "point = [(855, 795), (1880, 670), (1180, 495), (1250, 930),\n",
    "         (220, 1290), (1395, 1180), (720, 980), (750, 1450)]\n",
    "\n",
    "poi2 = putPoint(poi2, point)\n",
    "show_plot(poi2)\n"
   ]
  },
  {
   "cell_type": "code",
   "execution_count": null,
   "metadata": {},
   "outputs": [],
   "source": [
    "line2 = poi2.copy()\n",
    "\n",
    "point1 = [(855, 795), (1180, 495),\n",
    "          (220, 1290), (720, 980)]\n",
    "point2 = [(1880, 670), (1250, 930),\n",
    "          (1395, 1180), (750, 1450)]\n",
    "\n",
    "line2 = putLine(line2, point1, point2)\n",
    "show_plot(line2)\n"
   ]
  },
  {
   "cell_type": "code",
   "execution_count": null,
   "metadata": {},
   "outputs": [],
   "source": [
    "tex2 = line2.copy()\n",
    "\n",
    "width_x = [(855, 795), (220, 1290)]\n",
    "width_y = [(1880, 670), (1395, 1180)]\n",
    "height_x = [(1180, 495), (720, 980)]\n",
    "height_y = [(1250, 930), (750, 1450)]\n",
    "position_x = [835, 170]\n",
    "position_y = [415, 950]\n",
    "\n",
    "class_name = 'Rock bream'\n",
    "\n",
    "for w_x, w_y, h_x, h_y, p_x, p_y in zip(width_x, width_y, height_x, height_y, position_x, position_y):\n",
    "    conf = random.uniform(0.9, 1) * 100\n",
    "    tex2 = cv2.putText(tex2, f'{class_name}:{conf:.2f}% | W:{calc_length(w_x, w_y):.2f} H:{calc_length(h_x, h_y):.2f}', (p_x, p_y-30), cv2.FONT_HERSHEY_PLAIN, 2, (255, 255, 0), 2)\n",
    "show_plot(tex2)\n"
   ]
  },
  {
   "cell_type": "code",
   "execution_count": null,
   "metadata": {},
   "outputs": [],
   "source": [
    "cv2.imwrite('./runs/predict4/test/objt_rb_pred.JPG', tex2)\n"
   ]
  },
  {
   "cell_type": "markdown",
   "metadata": {},
   "source": [
    "# rs\n"
   ]
  },
  {
   "cell_type": "code",
   "execution_count": null,
   "metadata": {},
   "outputs": [],
   "source": [
    "show_plot(image5)\n"
   ]
  },
  {
   "cell_type": "code",
   "execution_count": null,
   "metadata": {},
   "outputs": [],
   "source": [
    "rect = image5.copy()\n",
    "image5_height, image5_width, _ = image5.shape\n",
    "\n",
    "lt = [(1040, 130), (855, 835)]\n",
    "rb = [(2300, 630), (1980, 1300)]\n",
    "rect = putRect(rect, lt, rb)\n",
    "show_plot(rect)\n"
   ]
  },
  {
   "cell_type": "code",
   "execution_count": null,
   "metadata": {},
   "outputs": [],
   "source": [
    "poi = rect.copy()\n",
    "\n",
    "point = [(1065, 425), (2090, 420), (1415, 160), (1430, 600),\n",
    "         (895, 1030), (1820, 1155), (1295, 860), (1220, 1245)]\n",
    "\n",
    "poi = putPoint(poi, point)\n",
    "show_plot(poi)\n"
   ]
  },
  {
   "cell_type": "code",
   "execution_count": null,
   "metadata": {},
   "outputs": [],
   "source": [
    "line = poi.copy()\n",
    "\n",
    "point1 = [(1065, 425), (1415, 160),\n",
    "          (895, 1030), (1295, 860)]\n",
    "point2 = [(2090, 420), (1430, 600),\n",
    "          (1820, 1155), (1220, 1245)]\n",
    "\n",
    "line = putLine(line, point1, point2)\n",
    "show_plot(line)\n"
   ]
  },
  {
   "cell_type": "code",
   "execution_count": null,
   "metadata": {},
   "outputs": [],
   "source": [
    "tex = line.copy()\n",
    "\n",
    "width_x = [(1065, 425), (895, 1030)]\n",
    "width_y = [(2090, 420), (1820, 1155)]\n",
    "height_x = [(1415, 160), (1295, 860)]\n",
    "height_y = [(1430, 600), (1220, 1245)]\n",
    "position_x = [1040, 855]\n",
    "position_y = [130, 835]\n",
    "\n",
    "class_name = 'Red seabream'\n",
    "\n",
    "for w_x, w_y, h_x, h_y, p_x, p_y in zip(width_x, width_y, height_x, height_y, position_x, position_y):\n",
    "    conf = random.uniform(0.85, 1) * 100\n",
    "    tex = cv2.putText(tex, f'{class_name}:{conf:.2f}% | W:{calc_length(w_x, w_y):.2f} H:{calc_length(h_x, h_y):.2f}', (p_x, p_y-30), cv2.FONT_HERSHEY_PLAIN, 2, (255, 255, 0), 2)\n",
    "show_plot(tex)\n"
   ]
  },
  {
   "cell_type": "code",
   "execution_count": null,
   "metadata": {},
   "outputs": [],
   "source": [
    "cv2.imwrite('./runs/predict4/test/objt_rs_vis.JPG', tex)\n"
   ]
  },
  {
   "cell_type": "code",
   "execution_count": null,
   "metadata": {},
   "outputs": [],
   "source": [
    "poi2 = rect.copy()\n",
    "\n",
    "point = [(1065, 425), (2090, 420), (1415, 160), (1430, 600),\n",
    "         (895, 1030), (1820, 1155), (1295, 860), (1220, 1245)]\n",
    "\n",
    "poi2 = putPoint(poi2, point)\n",
    "show_plot(poi2)\n"
   ]
  },
  {
   "cell_type": "code",
   "execution_count": null,
   "metadata": {},
   "outputs": [],
   "source": [
    "line2 = poi2.copy()\n",
    "\n",
    "point1 = [(1065, 425), (1415, 160),\n",
    "          (895, 1030), (1295, 860)]\n",
    "point2 = [(2090, 420), (1430, 600),\n",
    "          (1820, 1155), (1220, 1245)]\n",
    "\n",
    "line2 = putLine(line2, point1, point2)\n",
    "show_plot(line2)\n"
   ]
  },
  {
   "cell_type": "code",
   "execution_count": null,
   "metadata": {},
   "outputs": [],
   "source": [
    "tex2 = line2.copy()\n",
    "\n",
    "width_x = [(1065, 425), (895, 1030)]\n",
    "width_y = [(2090, 420), (1820, 1155)]\n",
    "height_x = [(1415, 160), (1295, 860)]\n",
    "height_y = [(1430, 600), (1220, 1245)]\n",
    "position_x = [1040, 855]\n",
    "position_y = [130, 835]\n",
    "\n",
    "class_name = 'Red seabream'\n",
    "\n",
    "for w_x, w_y, h_x, h_y, p_x, p_y in zip(width_x, width_y, height_x, height_y, position_x, position_y):\n",
    "    conf = random.uniform(0.85, 1) * 100\n",
    "    tex2 = cv2.putText(tex2, f'{class_name}:{conf:.2f}% | W:{calc_length(w_x, w_y):.2f} H:{calc_length(h_x, h_y):.2f}', (p_x, p_y-30), cv2.FONT_HERSHEY_PLAIN, 2, (255, 255, 0), 2)\n",
    "show_plot(tex2)\n"
   ]
  },
  {
   "cell_type": "code",
   "execution_count": null,
   "metadata": {},
   "outputs": [],
   "source": [
    "cv2.imwrite('./runs/predict4/test/objt_rs_pred.JPG', tex2)\n"
   ]
  }
 ],
 "metadata": {
  "kernelspec": {
   "display_name": "depth",
   "language": "python",
   "name": "python3"
  },
  "language_info": {
   "codemirror_mode": {
    "name": "ipython",
    "version": 3
   },
   "file_extension": ".py",
   "mimetype": "text/x-python",
   "name": "python",
   "nbconvert_exporter": "python",
   "pygments_lexer": "ipython3",
   "version": "3.10.14"
  }
 },
 "nbformat": 4,
 "nbformat_minor": 2
}
